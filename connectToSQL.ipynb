{
  "nbformat": 4,
  "nbformat_minor": 0,
  "metadata": {
    "colab": {
      "provenance": [],
      "authorship_tag": "ABX9TyNKWY1pm0AN1zdoLGf+muCz",
      "include_colab_link": true
    },
    "kernelspec": {
      "name": "python3",
      "display_name": "Python 3"
    },
    "language_info": {
      "name": "python"
    }
  },
  "cells": [
    {
      "cell_type": "markdown",
      "metadata": {
        "id": "view-in-github",
        "colab_type": "text"
      },
      "source": [
        "<a href=\"https://colab.research.google.com/github/zxp86330/Task07_01/blob/main/connectToSQL.ipynb\" target=\"_parent\"><img src=\"https://colab.research.google.com/assets/colab-badge.svg\" alt=\"Open In Colab\"/></a>"
      ]
    },
    {
      "cell_type": "code",
      "execution_count": 1,
      "metadata": {
        "id": "w8UEYRjxm9Ak",
        "colab": {
          "base_uri": "https://localhost:8080/"
        },
        "outputId": "a53d6625-ae4a-44ee-f95e-4ba82bbff9fd"
      },
      "outputs": [
        {
          "output_type": "stream",
          "name": "stdout",
          "text": [
            "INSERT INTO pharmacies VALUES ('臺北市', 338, '2025-02-22 13:32:08.968019')\n",
            "INSERT INTO pharmacies VALUES ('', 48, '2025-02-22 13:32:08.988472')\n",
            "INSERT INTO pharmacies VALUES ('高雄市', 421, '2025-02-22 13:32:08.999778')\n",
            "INSERT INTO pharmacies VALUES ('臺中市', 419, '2025-02-22 13:32:09.012391')\n",
            "INSERT INTO pharmacies VALUES ('臺南市', 270, '2025-02-22 13:32:09.019769')\n",
            "INSERT INTO pharmacies VALUES ('基隆市', 56, '2025-02-22 13:32:09.025848')\n",
            "INSERT INTO pharmacies VALUES ('新竹市', 38, '2025-02-22 13:32:09.032799')\n",
            "INSERT INTO pharmacies VALUES ('嘉義市', 66, '2025-02-22 13:32:09.039219')\n",
            "INSERT INTO pharmacies VALUES ('新北市', 500, '2025-02-22 13:32:09.049267')\n",
            "INSERT INTO pharmacies VALUES ('桃園市', 263, '2025-02-22 13:32:09.060205')\n",
            "INSERT INTO pharmacies VALUES ('新竹縣', 45, '2025-02-22 13:32:09.070157')\n",
            "INSERT INTO pharmacies VALUES ('宜蘭縣', 75, '2025-02-22 13:32:09.082493')\n",
            "INSERT INTO pharmacies VALUES ('苗栗縣', 55, '2025-02-22 13:32:09.093694')\n",
            "INSERT INTO pharmacies VALUES ('彰化縣', 178, '2025-02-22 13:32:09.104797')\n",
            "INSERT INTO pharmacies VALUES ('南投縣', 66, '2025-02-22 13:32:09.115010')\n",
            "INSERT INTO pharmacies VALUES ('雲林縣', 128, '2025-02-22 13:32:09.124999')\n",
            "INSERT INTO pharmacies VALUES ('嘉義縣', 83, '2025-02-22 13:32:09.135876')\n",
            "INSERT INTO pharmacies VALUES ('屏東縣', 139, '2025-02-22 13:32:09.146863')\n",
            "INSERT INTO pharmacies VALUES ('澎湖縣', 10, '2025-02-22 13:32:09.156706')\n",
            "INSERT INTO pharmacies VALUES ('花蓮縣', 45, '2025-02-22 13:32:09.166955')\n",
            "INSERT INTO pharmacies VALUES ('臺東縣', 22, '2025-02-22 13:32:09.179692')\n",
            "INSERT INTO pharmacies VALUES ('金門縣', 5, '2025-02-22 13:32:09.193541')\n",
            "INSERT INTO pharmacies VALUES ('連江縣', 0, '2025-02-22 13:32:09.206372')\n",
            "[('臺北市', '338', '2025-02-22 13:32:08.968019'), ('', '48', '2025-02-22 13:32:08.988472'), ('高雄市', '421', '2025-02-22 13:32:08.999778'), ('臺中市', '419', '2025-02-22 13:32:09.012391'), ('臺南市', '270', '2025-02-22 13:32:09.019769'), ('基隆市', '56', '2025-02-22 13:32:09.025848'), ('新竹市', '38', '2025-02-22 13:32:09.032799'), ('嘉義市', '66', '2025-02-22 13:32:09.039219'), ('新北市', '500', '2025-02-22 13:32:09.049267'), ('桃園市', '263', '2025-02-22 13:32:09.060205'), ('新竹縣', '45', '2025-02-22 13:32:09.070157'), ('宜蘭縣', '75', '2025-02-22 13:32:09.082493'), ('苗栗縣', '55', '2025-02-22 13:32:09.093694'), ('彰化縣', '178', '2025-02-22 13:32:09.104797'), ('南投縣', '66', '2025-02-22 13:32:09.115010'), ('雲林縣', '128', '2025-02-22 13:32:09.124999'), ('嘉義縣', '83', '2025-02-22 13:32:09.135876'), ('屏東縣', '139', '2025-02-22 13:32:09.146863'), ('澎湖縣', '10', '2025-02-22 13:32:09.156706'), ('花蓮縣', '45', '2025-02-22 13:32:09.166955'), ('臺東縣', '22', '2025-02-22 13:32:09.179692'), ('金門縣', '5', '2025-02-22 13:32:09.193541'), ('連江縣', '0', '2025-02-22 13:32:09.206372')]\n"
          ]
        }
      ],
      "source": [
        "import sqlite3\n",
        "import datetime\n",
        "\n",
        "conn = sqlite3.connect('example.db')\n",
        "c = conn.cursor()\n",
        "\n",
        "# 新增且清空資料表\n",
        "c.execute('''CREATE TABLE IF NOT EXISTS pharmacies\n",
        "             (city text, counts text, createdAt datetime)''')\n",
        "c.execute('''DELETE FROM pharmacies''')\n",
        "conn.commit() #變更才會被永久寫入資料庫\n",
        "\n",
        "# 新增資料\n",
        "import requests\n",
        "import json\n",
        "\n",
        "\n",
        "# 利用 requests 對 API 來源發送一個請求\n",
        "url = 'https://raw.githubusercontent.com/kiang/pharmacies/master/json/points.json'\n",
        "response = requests.get(url)\n",
        "\n",
        "# 將請求回應的內容存成一個字串格式\n",
        "d = response.text\n",
        "\n",
        "# 將長得像 json 格式的字串解析成字典或列表\n",
        "data = json.loads(d)\n",
        "\n",
        "med_count = {}\n",
        "\n",
        "# 計算各地區藥局數量，存入med_count的字典裡面 {地區:數量}\n",
        "for d in data['features']:\n",
        "    conunty = d['properties']['county']\n",
        "    if conunty not in med_count:\n",
        "         med_count[conunty] = 0\n",
        "    elif conunty in med_count:\n",
        "        med_count[conunty] +=1\n",
        "\n",
        "for city in med_count.keys(): #利用for迴圈逐筆新增資料\n",
        "  t = datetime.datetime.now() #新增資料的時間\n",
        "  print(f\"INSERT INTO pharmacies VALUES ('{city}', {med_count[city]}, '{t}')\") #{med_count[city]}是數值就不需要''\n",
        "  c.execute(f\"INSERT INTO pharmacies VALUES ('{city}', {med_count[city]}, '{t}')\")\n",
        "  conn.commit()\n",
        "\n",
        "# 查詢資料\n",
        "c.execute(\"SELECT * FROM pharmacies\")\n",
        "print(c.fetchall())\n",
        "\n",
        "conn.commit() #提交變更\n",
        "conn.close() #關閉連結"
      ]
    }
  ]
}